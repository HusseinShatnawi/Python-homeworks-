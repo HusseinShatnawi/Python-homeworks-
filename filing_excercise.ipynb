{
  "nbformat": 4,
  "nbformat_minor": 0,
  "metadata": {
    "colab": {
      "name": "filing excercise.ipynb",
      "provenance": [],
      "collapsed_sections": [],
      "authorship_tag": "ABX9TyPOPaRi6IsU9g9R2gFsEcdh",
      "include_colab_link": true
    },
    "kernelspec": {
      "name": "python3",
      "display_name": "Python 3"
    },
    "language_info": {
      "name": "python"
    }
  },
  "cells": [
    {
      "cell_type": "markdown",
      "metadata": {
        "id": "view-in-github",
        "colab_type": "text"
      },
      "source": [
        "<a href=\"https://colab.research.google.com/github/HusseinShatnawi/Python-homeworks-/blob/main/filing_excercise.ipynb\" target=\"_parent\"><img src=\"https://colab.research.google.com/assets/colab-badge.svg\" alt=\"Open In Colab\"/></a>"
      ]
    },
    {
      "cell_type": "code",
      "execution_count": null,
      "metadata": {
        "id": "j9PxJbWVrISY"
      },
      "outputs": [],
      "source": [
        "# Suppose\tyou\tare\tgiven\ta\ttext\tfile\tthat\tcontains\ta\tsequence\t\n",
        "# of\tfloating-point\tvalues,\tstored\tone\tvalue\tper\tline\t\n",
        "# • You\tneed\tto\tread\tthe\tvalues\tand\twrite\tthem\tto\ta\tnew\t\n",
        "# output\tfile,\taligned\tin\ta\tcolumn\tand\tfollowed\tby\ttheir\ttotal\t\n",
        "# and\taverage\tvalue\t\n",
        "# • If\tthe\tinput\tfile\thas\tthe\tcontents\n",
        "# 32.0\n",
        "# 54.0\n",
        "# 67.5\n",
        "# 80.25\n",
        "# 115.0\n",
        "\n",
        "\n",
        "infile = open('/content/welcoms.txt' ,'r+')\n",
        "counter = 0 \n",
        "sums = 0 \n",
        "for value in infile :\n",
        "  print(value)\n",
        "\n",
        "  counter += 1\n",
        "  sums = sums + float(value)\n",
        "\n",
        "print('----------')\n",
        "print('Total = ', sums)\n",
        "print('Average = ', (sums / counter ))"
      ]
    }
  ]
}