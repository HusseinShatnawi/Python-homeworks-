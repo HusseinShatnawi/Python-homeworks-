{
  "nbformat": 4,
  "nbformat_minor": 0,
  "metadata": {
    "colab": {
      "name": "Q2 Final Exam.ipynb",
      "provenance": [],
      "collapsed_sections": [],
      "authorship_tag": "ABX9TyNOb4q91S+CIM4YUtAsqUva",
      "include_colab_link": true
    },
    "kernelspec": {
      "name": "python3",
      "display_name": "Python 3"
    },
    "language_info": {
      "name": "python"
    }
  },
  "cells": [
    {
      "cell_type": "markdown",
      "metadata": {
        "id": "view-in-github",
        "colab_type": "text"
      },
      "source": [
        "<a href=\"https://colab.research.google.com/github/HusseinShatnawi/Python-homeworks-/blob/main/Q2_Final_Exam.ipynb\" target=\"_parent\"><img src=\"https://colab.research.google.com/assets/colab-badge.svg\" alt=\"Open In Colab\"/></a>"
      ]
    },
    {
      "cell_type": "code",
      "source": [
        "# Student Name : Hussein Shatnawi\n",
        "# CWID : 50305640\n",
        "# Final exam solution for question 2"
      ],
      "metadata": {
        "id": "WvVz6pLhwA8b"
      },
      "execution_count": null,
      "outputs": []
    },
    {
      "cell_type": "code",
      "execution_count": null,
      "metadata": {
        "id": "-JgVL56uv3Ji"
      },
      "outputs": [],
      "source": [
        "\"\"\"\n",
        "\n",
        "Question 2 (50 points)\n",
        "• Write a program that will keep running (i.e., doing what is being asked\n",
        "below), till the user inputs an 'E' (for exit).\n",
        "• Ask the user for a number.\n",
        "• The program should display all positive factors of the number that is\n",
        "input.\n",
        "o For instance, if the user inputs 100, all factors of 100 are\n",
        "displayed. The factors are:\n",
        "1, 2, 4, 5, 10, 20, 25, 50, 100\n",
        "o Similarly, if the user inputs 150, all factors of 150 are displayed.\n",
        "The factors are:\n",
        "1, 2, 3, 5, 6, 10, 15, 25, 30, 50, 75, 150\n",
        "• Then, if the total number of Factors is\n",
        "o Less than 10: Display \"This is too less - Good Bye\". And\n",
        "the Program Ends !\n",
        "o More than 10: Do the following\n",
        "§ Display the highest 3 factors (e.g. for 150 - the highest 3\n",
        "factors are 50, 75, 150)\n",
        "§ Display the average of the above 3 factors (e.g. for 150 -\n",
        "average is 91.667). And the Program Ends !\n",
        "\n",
        "\n",
        "\"\"\""
      ]
    },
    {
      "cell_type": "code",
      "source": [
        "import math\n",
        "import pandas as pd\n",
        "import numpy as np\n",
        "from statistics import mean\n",
        "number = input('Enter your number or \"E\" to exist :')\n",
        "\n",
        "\n",
        "while number != 'E' :      \n",
        "  try:\n",
        "\n",
        "    requiredNumber = int(number)\n",
        "    numberRange = range(1, requiredNumber +1)\n",
        "    numberFacotrs = []\n",
        "    for factor in numberRange:      \n",
        "      if requiredNumber % factor == 0 :\n",
        "        numberFacotrs.append(factor)\n",
        "    print(numberFacotrs)\n",
        "    length = len(numberFacotrs)   \n",
        "    if length < 10 :\n",
        " \n",
        "      print('This is too less - Good Bye')\n",
        "      break\n",
        "    else:\n",
        "     \n",
        "      largest = [numberFacotrs[-1], numberFacotrs[-2], numberFacotrs[-3]]\n",
        "      print('The highest factors are : ' , largest)\n",
        "      print('The mean of the factors is :', mean(largest))\n",
        "    \n",
        "      number = input('Enter anthor number or \"E\" to exist :')\n",
        "\n",
        "  except:\n",
        "    print('Your number is not correct, Enter A number !! ')\n",
        "    number = input()\n",
        "\n",
        "if number == 'E':\n",
        "  print('Thak you for using our program, Good Bye !!')\n",
        "\n",
        "\n"
      ],
      "metadata": {
        "colab": {
          "base_uri": "https://localhost:8080/"
        },
        "id": "SDjLxij2QZqh",
        "outputId": "3542bdef-4b15-437e-ba12-974855eb98d8"
      },
      "execution_count": 38,
      "outputs": [
        {
          "output_type": "stream",
          "name": "stdout",
          "text": [
            "Enter your number or \"E\" to exist :1000\n",
            "[1, 2, 4, 5, 8, 10, 20, 25, 40, 50, 100, 125, 200, 250, 500, 1000]\n",
            "The highest factors are :  [1000, 500, 250]\n",
            "The mean of the factors is : 583.3333333333334\n",
            "Enter anthor number or \"E\" to exist :w\n",
            "Your number is not correct, Enter A number !! \n",
            "q\n",
            "Your number is not correct, Enter A number !! \n",
            "100000\n",
            "[1, 2, 4, 5, 8, 10, 16, 20, 25, 32, 40, 50, 80, 100, 125, 160, 200, 250, 400, 500, 625, 800, 1000, 1250, 2000, 2500, 3125, 4000, 5000, 6250, 10000, 12500, 20000, 25000, 50000, 100000]\n",
            "The highest factors are :  [100000, 50000, 25000]\n",
            "The mean of the factors is : 58333.333333333336\n",
            "Enter anthor number or \"E\" to exist :12\n",
            "[1, 2, 3, 4, 6, 12]\n",
            "This is too less - Good Bye\n"
          ]
        }
      ]
    },
    {
      "cell_type": "code",
      "source": [
        ""
      ],
      "metadata": {
        "id": "IXNbobK_q1pd"
      },
      "execution_count": 38,
      "outputs": []
    }
  ]
}