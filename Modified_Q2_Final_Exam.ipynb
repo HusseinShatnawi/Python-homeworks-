{
  "nbformat": 4,
  "nbformat_minor": 0,
  "metadata": {
    "colab": {
      "name": "Modified Q2 Final Exam.ipynb",
      "provenance": [],
      "collapsed_sections": [],
      "authorship_tag": "ABX9TyPsPUjtqQlAcDr5nrJgw+sJ",
      "include_colab_link": true
    },
    "kernelspec": {
      "name": "python3",
      "display_name": "Python 3"
    },
    "language_info": {
      "name": "python"
    }
  },
  "cells": [
    {
      "cell_type": "markdown",
      "metadata": {
        "id": "view-in-github",
        "colab_type": "text"
      },
      "source": [
        "<a href=\"https://colab.research.google.com/github/HusseinShatnawi/Python-homeworks-/blob/main/Modified_Q2_Final_Exam.ipynb\" target=\"_parent\"><img src=\"https://colab.research.google.com/assets/colab-badge.svg\" alt=\"Open In Colab\"/></a>"
      ]
    },
    {
      "cell_type": "code",
      "execution_count": 39,
      "metadata": {
        "colab": {
          "base_uri": "https://localhost:8080/"
        },
        "id": "Ho_2Zst0x6rm",
        "outputId": "1ff6b39c-74f3-4c07-b7fc-0daf68c5b854"
      },
      "outputs": [
        {
          "output_type": "stream",
          "name": "stdout",
          "text": [
            "Enter your number or \"N\" to exist :43\n",
            "[1, 43]\n",
            "This is too less. Do you want to Continue Y for yes, N for no ?Y\n",
            "here we go , please enter your number !!:43\n",
            "[1, 43]\n",
            "This is too less. Do you want to Continue Y for yes, N for no ?Y\n",
            "here we go , please enter your number !!:90\n",
            "[1, 2, 3, 5, 6, 9, 10, 15, 18, 30, 45, 90]\n",
            "The highest factors are :  [90, 45, 30]\n",
            "The mean of the factors is : 55\n",
            "Do you want to continuou, Y for yes and N for no :Y\n",
            "Enter anthor number or \"N\" to exist :90\n",
            "[1, 2, 3, 5, 6, 9, 10, 15, 18, 30, 45, 90]\n",
            "The highest factors are :  [90, 45, 30]\n",
            "The mean of the factors is : 55\n",
            "Do you want to continuou, Y for yes and N for no :N\n",
            "Thank you for your time !!\n"
          ]
        }
      ],
      "source": [
        "# Student Name : Hussein Shatnawi\n",
        "# CWID : 50305640\n",
        "# Final Exam - Question number 2 \n",
        "\n",
        "\"\"\"\n",
        "\n",
        "Question 2 (50 points)\n",
        "• Write a program that will keep running (i.e., doing what is being asked\n",
        "below), till the user inputs an 'N' (for exit).\n",
        "• Ask the user for a number.\n",
        "• The program should display all positive factors of the number that is\n",
        "input.\n",
        "o For instance, if the user inputs 100, all factors of 100 are\n",
        "displayed. The factors are:\n",
        "1, 2, 4, 5, 10, 20, 25, 50, 100\n",
        "o Similarly, if the user inputs 150, all factors of 150 are displayed.\n",
        "The factors are:\n",
        "1, 2, 3, 5, 6, 10, 15, 25, 30, 50, 75, 150\n",
        "Then, if the total number of Factors is\n",
        "o Less than 10: Display \"This is too less. Do you want to\n",
        "Continue?\". If the user inputs an “N”, the Program Ends !, if the\n",
        "user inputs a “Y”, ask the user for a number again, and so on…\n",
        "o More than 10: Do the following\n",
        "§ Display the highest 3 factors (e.g. for 150 - the highest 3\n",
        "factors are 50, 75, 150)\n",
        "§ Display the average of the above 3 factors (e.g. for 150 -\n",
        "average is 91.667). Then display “Do you want to\n",
        "Continue?”. If the user inputs an “N”, the Program Ends !, if\n",
        "the user inputs a “Y”, ask the user for a number again, and\n",
        "so on…\n",
        "\n",
        "\"\"\"\n",
        "\n",
        "\n",
        "\n",
        "\n",
        "\n",
        "\n",
        "import math\n",
        "import pandas as pd\n",
        "import numpy as np\n",
        "from statistics import mean\n",
        "number = input('Enter your number or \"N\" to exist :')                               # Input statement to let the user input a number \n",
        "\n",
        "\n",
        "while number != 'N' :                                                               # here we start with a loop and the condiotion of while loop is the exist letter \"N\"\n",
        "  try:                                                                              # here I use try and exception method to check all inputs and prevent any mistake\n",
        "\n",
        "    requiredNumber = int(number)                                          # when the exist condition has not occured, so we convert the input to integer to  make our calculations \n",
        "    numberRange = range(1, requiredNumber +1)                                       # creating a range for the for loop \n",
        "    numberFacotrs = []                                                              # creating empty list which will hold the facotrs\n",
        "    for factor in numberRange:      \n",
        "      if requiredNumber % factor == 0 :                                             # here we use % to determine the facotrs \n",
        "        numberFacotrs.append(factor)                                                # if the remainder is zero that means the number is a factor for this number   \n",
        "    print(numberFacotrs)                                                            # to present the results \n",
        "    length = len(numberFacotrs)                                                     # here we find the length of the list which contains the facotrs\n",
        "    if length < 10 :                                                                # If the length is lower than 10 ; then hte program will break and print a statement \n",
        " \n",
        "      toNext = input('This is too less. Do you want to Continue Y for yes, N for no ?')\n",
        "      if toNext == 'N':\n",
        "        print('Shutting down, Thank you !!')\n",
        "        break\n",
        "      elif toNext == 'Y':\n",
        "        number = input('here we go , please enter your number !!:')\n",
        "      else:\n",
        "        number = input('wrong inputs!! Y to continuou , N to exist')\n",
        "\n",
        "    else:                                                                           # if the program is higher than 10; the the program will continuou by doing the followings\n",
        "     \n",
        "      largest = [numberFacotrs[-1], numberFacotrs[-2], numberFacotrs[-3]]           # finding the largest factors by using the reverse index method and present them\n",
        "      print('The highest factors are : ' , largest)                             \n",
        "      print('The mean of the factors is :', mean(largest))                          # it will find the mean of these factors\n",
        "      \n",
        "      \n",
        "       \n",
        "      toNext2 = input('Do you want to continuou, Y for yes and N for no :')\n",
        "      if toNext2 == 'Y' :              \n",
        "        number = input('Enter anthor number or \"N\" to exist :')                       # then we let the user enter a new input to have a chance to break the loop \n",
        "      elif toNext2 == 'N':       \n",
        "        print('Thank you for your time !!')\n",
        "        break\n",
        "      else :\n",
        "        number = input('wrong inputs !! Y for yes or N for no ? ')\n",
        "        \n",
        "  except:                                                    # In case the user entered wrong number; these statements will be presented and the user should enter another value\n",
        "    print('Reminder: Your input was not correct but we will give a chance, Enter A NUMBER NUMBER NUMBER NUMBER  !! ')\n",
        "    number = input()\n",
        "\n",
        "if number == 'N':                                                            # if the input is \"N\" then the statement will be printed and and the program will be terminated \n",
        "  print('Thank you for using our program, Good Bye !!')\n",
        "\n",
        "\n"
      ]
    },
    {
      "cell_type": "code",
      "source": [
        ""
      ],
      "metadata": {
        "id": "8PX-vauI8NdR"
      },
      "execution_count": 30,
      "outputs": []
    },
    {
      "cell_type": "code",
      "source": [
        ""
      ],
      "metadata": {
        "id": "3e7qYy-rx7gw"
      },
      "execution_count": null,
      "outputs": []
    }
  ]
}