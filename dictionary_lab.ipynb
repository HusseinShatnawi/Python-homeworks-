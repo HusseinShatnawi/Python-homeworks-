{
  "nbformat": 4,
  "nbformat_minor": 0,
  "metadata": {
    "colab": {
      "name": "dictionary lab.ipynb",
      "provenance": [],
      "collapsed_sections": [],
      "authorship_tag": "ABX9TyO3ALANfQj4WERbyMnNk6/J",
      "include_colab_link": true
    },
    "kernelspec": {
      "name": "python3",
      "display_name": "Python 3"
    },
    "language_info": {
      "name": "python"
    }
  },
  "cells": [
    {
      "cell_type": "markdown",
      "metadata": {
        "id": "view-in-github",
        "colab_type": "text"
      },
      "source": [
        "<a href=\"https://colab.research.google.com/github/HusseinShatnawi/Python-homeworks-/blob/main/dictionary_lab.ipynb\" target=\"_parent\"><img src=\"https://colab.research.google.com/assets/colab-badge.svg\" alt=\"Open In Colab\"/></a>"
      ]
    },
    {
      "cell_type": "code",
      "execution_count": 21,
      "metadata": {
        "colab": {
          "base_uri": "https://localhost:8080/"
        },
        "id": "ZZKMZVcn7z5K",
        "outputId": "a9e7c6ed-e0b3-439c-9ec1-f13873b529d0"
      },
      "outputs": [
        {
          "name": "stdout",
          "output_type": "stream",
          "text": [
            "Enter the course name :cs;'e\n",
            "Sorry we don't offer this course in this semester !!\n",
            "Please press enter to quit\n",
            "Enter the course name :\n"
          ]
        }
      ],
      "source": [
        "# Dictionary Lab :\n",
        "# The task is to create dictionaries for the course numbers with room numbers, instructor names, meeting time and course numbers.\n",
        "# Then the we should let user enter course number , then the room number , instroctor and the meeting time will be dsiplaied .\n",
        "\n",
        "\n",
        "# The fist dictionary defining :\n",
        "\n",
        "course_room = {'CS101' : '3004', 'CS102' : ' 4501', 'CS103' : ' 6755', 'NT110' : '1244' , 'CM241' : '1411'}\n",
        "\n",
        "# The second dictionary defining :\n",
        "\n",
        "course_instructor = {'CS101' : 'Haynes' , 'CS102' : 'Alvarado' , 'CS103':'Rich', 'NT110' : 'Burke', 'CM241':'Lee'}\n",
        "\n",
        "\n",
        "# The third dictionary defining : \n",
        "\n",
        "course_meetingTime = {'CS101' : '8:00 a.m.', 'CS102' : '9:00 a.m.', 'CS103' : '10:00 a.m.' , 'NT110' : '11:00 a.m.' , 'CM241' : '1:00 p.m.'}\n",
        "\n",
        "\n",
        "course_inquiry = input(\"Enter the course name :\")\n",
        "\n",
        "\n",
        "while course_inquiry != '':                                                        # Here we make a loop to enable the user check more than one class\n",
        "  course_inquiry = course_inquiry.upper()\n",
        "  if course_inquiry in course_room :                                               # To check and confirm we have the required class in the mentioned semester\n",
        "    print('Course Name : ' , course_inquiry, '\\tRoom Number : ', course_room[course_inquiry], '\\tInstructor Name : ' , course_instructor[course_inquiry], '\\tMeeting Time : ' , course_meetingTime[course_inquiry])\n",
        "\n",
        "  else : \n",
        "    print(\"Sorry we don't offer this course in this semester !!\") \n",
        "  \n",
        "  print('Please press enter to quit')                                             \n",
        "  course_inquiry = input(\"Enter the course name :\")                              # Here we let the user to enter another class name to check it or to finish and get out the loop \n",
        "\n",
        "\n",
        "  \n",
        "\n",
        "\n",
        "\n",
        "\n",
        "\n",
        "\n",
        "\n",
        "\n",
        "\n",
        "\n"
      ]
    },
    {
      "cell_type": "code",
      "source": [
        ""
      ],
      "metadata": {
        "id": "aTPuFPG9-a3v"
      },
      "execution_count": null,
      "outputs": []
    }
  ]
}